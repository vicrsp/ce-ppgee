{
 "metadata": {
  "language_info": {
   "codemirror_mode": {
    "name": "ipython",
    "version": 3
   },
   "file_extension": ".py",
   "mimetype": "text/x-python",
   "name": "python",
   "nbconvert_exporter": "python",
   "pygments_lexer": "ipython3",
   "version": "3.8.5-final"
  },
  "orig_nbformat": 2,
  "kernelspec": {
   "name": "python_defaultSpec_1598809614368",
   "display_name": "Python 3.8.5 64-bit ('dev-ceppgee': conda)"
  }
 },
 "nbformat": 4,
 "nbformat_minor": 2,
 "cells": [
  {
   "cell_type": "markdown",
   "metadata": {},
   "source": [
    "# Computação Evolucionária - TP PSO"
   ]
  },
  {
   "cell_type": "markdown",
   "metadata": {},
   "source": [
    "## Introdução"
   ]
  },
  {
   "cell_type": "markdown",
   "metadata": {},
   "source": [
    "## Metodologia\n",
    "\n",
    "### Função unimodal\n",
    "A função unimodal escolhida foi a 5 (Different Powers Function)\n",
    "\n",
    "### Função multimodal\n",
    "A função multimodal escolhida foi a 10 (Rotated Griewank's Function) "
   ]
  },
  {
   "cell_type": "markdown",
   "metadata": {},
   "source": [
    "## Resultados\n",
    "\n",
    "Inicialmente, é necessário importar as bibliotecas necessárias para o desenvolvimento do trabalho. Está sendo utilizada a versão 3.8.5 do Python, e as bibliotecas `numpy`, `pandas`, `matplotlib` e `seaborn`."
   ]
  },
  {
   "cell_type": "code",
   "execution_count": 109,
   "metadata": {},
   "outputs": [],
   "source": [
    "# importando bibliotecas\n",
    "import numpy as np\n",
    "import pandas as pd\n",
    "import matplotlib.pyplot as plt\n",
    "import seaborn as sns\n",
    "from mpl_toolkits import mplot3d\n"
   ]
  },
  {
   "cell_type": "markdown",
   "metadata": {},
   "source": [
    "O proximo passo é implementar e validar a implementação das funções de teste escolhidas para estudo."
   ]
  },
  {
   "cell_type": "code",
   "execution_count": 33,
   "metadata": {},
   "outputs": [],
   "source": [
    "class DifferentPowersFunction:\n",
    "    \"\"\"\n",
    "    Função 5 - Different Powers Function\n",
    "    \"\"\"\n",
    "    def __init__(self, o, D=10, f_star=-1000):\n",
    "        self.o = o\n",
    "        self.D = D\n",
    "        self.f_star = f_star\n",
    "\n",
    "    def func(self, x):\n",
    "        z = x - self.o\n",
    "        z_sum = np.sum([(z[i-1]) ** (2 + 4*(i-1)/(self.D-1)) for i in np.arange(start=1, stop=self.D+1)])\n",
    "        return np.sqrt(np.sum(z_sum)) + self.f_star\n"
   ]
  },
  {
   "cell_type": "code",
   "execution_count": 78,
   "metadata": {},
   "outputs": [],
   "source": [
    "class RotatedGriewanksFunction:\n",
    "    \"\"\"\n",
    "    Função 10 - Rotated Griewanks's Function\n",
    "    \"\"\"\n",
    "    def __init__(self, o, M1, alpha=100, D=10, f_star=-500):\n",
    "        self.o = o\n",
    "        self.D = D\n",
    "        self.f_star = f_star\n",
    "        self.M1 = M1\n",
    "        self.diag = np.diag([alpha ** (i/(2*(D-1))) for i in np.arange(self.D)])\n",
    "\n",
    "    def calculate_z(self, x):\n",
    "        return self.diag @ self.M1 @ (6 * (x - self.o))\n",
    "\n",
    "    def func(self, x):\n",
    "        z = self.calculate_z(x)\n",
    "        part1 = np.sum([(z[i]**2)/4000 for i in np.arange(self.D)])\n",
    "        part2 = -np.prod([np.cos(z[i]/np.sqrt(i+1)) for i in np.arange(self.D)])\n",
    "        return part1 + part2 + 1 + self.f_star"
   ]
  },
  {
   "cell_type": "code",
   "execution_count": 185,
   "metadata": {},
   "outputs": [],
   "source": [
    "def plot_function_2d(func, n, bx=[-100, 100], by=[-100,100], title=''):\n",
    "    lb, ub = bx\n",
    "    x = np.linspace(lb, ub, n)\n",
    "    lb, ub = by\n",
    "    y = np.linspace(lb, ub, n)\n",
    "    xv, yv = np.meshgrid(x, y)\n",
    "    z = np.zeros((n,n))\n",
    "    for i in range(n):\n",
    "        for j in range(n):\n",
    "            z[i,j] = func(np.array([xv[i,j], yv[i,j]]))\n",
    "\n",
    "    fig = plt.figure(num=None, figsize=(12, 6))\n",
    "    fig.suptitle(title)\n",
    "\n",
    "    ax1 = fig.add_subplot(121, projection='3d')\n",
    "    ax2 = fig.add_subplot(122)\n",
    "\n",
    "    ax1.plot_surface(xv, yv, z, cmap='jet', edgecolor='none')\n",
    "    cs = ax2.contour(x,y,z, cmap='jet', levels=50)\n",
    "    fig.colorbar(cs, ax=ax2)\n",
    "    plt.show()\n",
    "\n"
   ]
  },
  {
   "cell_type": "code",
   "execution_count": 186,
   "metadata": {},
   "outputs": [],
   "source": [
    "# Ler os dados de shift fornecidos\n",
    "shift_data = pd.read_fwf('data/shift_data.txt', header=None)\n",
    "# Ler matrizes M\n",
    "M_D2 = pd.read_fwf('data/M_D2.txt', header=None)\n",
    "M_D10 = pd.read_fwf('data/M_D10.txt', header=None)"
   ]
  },
  {
   "cell_type": "code",
   "execution_count": 187,
   "metadata": {
    "tags": []
   },
   "outputs": [
    {
     "output_type": "error",
     "ename": "AttributeError",
     "evalue": "'Figure' object has no attribute 'set_title'",
     "traceback": [
      "\u001b[1;31m---------------------------------------------------------------------------\u001b[0m",
      "\u001b[1;31mAttributeError\u001b[0m                            Traceback (most recent call last)",
      "\u001b[1;32m<ipython-input-187-dceb16ac2ecd>\u001b[0m in \u001b[0;36m<module>\u001b[1;34m\u001b[0m\n\u001b[0;32m     10\u001b[0m \u001b[0mmultimodal\u001b[0m \u001b[1;33m=\u001b[0m \u001b[0mRotatedGriewanksFunction\u001b[0m\u001b[1;33m(\u001b[0m\u001b[0mo_used\u001b[0m\u001b[1;33m,\u001b[0m \u001b[0mM1\u001b[0m\u001b[1;33m,\u001b[0m \u001b[0mD\u001b[0m\u001b[1;33m=\u001b[0m\u001b[0mD_plot\u001b[0m\u001b[1;33m)\u001b[0m\u001b[1;33m\u001b[0m\u001b[1;33m\u001b[0m\u001b[0m\n\u001b[0;32m     11\u001b[0m \u001b[1;33m\u001b[0m\u001b[0m\n\u001b[1;32m---> 12\u001b[1;33m \u001b[0mplot_function_2d\u001b[0m\u001b[1;33m(\u001b[0m\u001b[0munimodal\u001b[0m\u001b[1;33m.\u001b[0m\u001b[0mfunc\u001b[0m\u001b[1;33m,\u001b[0m \u001b[1;36m100\u001b[0m\u001b[1;33m,\u001b[0m \u001b[0mtitle\u001b[0m\u001b[1;33m=\u001b[0m\u001b[1;34m'Função 5'\u001b[0m\u001b[1;33m)\u001b[0m\u001b[1;33m\u001b[0m\u001b[1;33m\u001b[0m\u001b[0m\n\u001b[0m\u001b[0;32m     13\u001b[0m \u001b[0mplot_function_2d\u001b[0m\u001b[1;33m(\u001b[0m\u001b[0mmultimodal\u001b[0m\u001b[1;33m.\u001b[0m\u001b[0mfunc\u001b[0m\u001b[1;33m,\u001b[0m \u001b[1;36m100\u001b[0m\u001b[1;33m,\u001b[0m \u001b[0mbx\u001b[0m\u001b[1;33m=\u001b[0m\u001b[1;33m[\u001b[0m\u001b[1;33m-\u001b[0m\u001b[1;36m26\u001b[0m\u001b[1;33m,\u001b[0m\u001b[1;33m-\u001b[0m\u001b[1;36m17\u001b[0m\u001b[1;33m]\u001b[0m\u001b[1;33m,\u001b[0m\u001b[0mby\u001b[0m\u001b[1;33m=\u001b[0m\u001b[1;33m[\u001b[0m\u001b[1;36m7\u001b[0m\u001b[1;33m,\u001b[0m\u001b[1;36m16\u001b[0m\u001b[1;33m]\u001b[0m\u001b[1;33m,\u001b[0m \u001b[0mtitle\u001b[0m\u001b[1;33m=\u001b[0m\u001b[1;34m'Função 10'\u001b[0m\u001b[1;33m)\u001b[0m\u001b[1;33m\u001b[0m\u001b[1;33m\u001b[0m\u001b[0m\n",
      "\u001b[1;32m<ipython-input-185-cd32d791dac6>\u001b[0m in \u001b[0;36mplot_function_2d\u001b[1;34m(func, n, bx, by, title)\u001b[0m\n\u001b[0;32m     11\u001b[0m \u001b[1;33m\u001b[0m\u001b[0m\n\u001b[0;32m     12\u001b[0m     \u001b[0mfig\u001b[0m \u001b[1;33m=\u001b[0m \u001b[0mplt\u001b[0m\u001b[1;33m.\u001b[0m\u001b[0mfigure\u001b[0m\u001b[1;33m(\u001b[0m\u001b[0mnum\u001b[0m\u001b[1;33m=\u001b[0m\u001b[1;32mNone\u001b[0m\u001b[1;33m,\u001b[0m \u001b[0mfigsize\u001b[0m\u001b[1;33m=\u001b[0m\u001b[1;33m(\u001b[0m\u001b[1;36m12\u001b[0m\u001b[1;33m,\u001b[0m \u001b[1;36m6\u001b[0m\u001b[1;33m)\u001b[0m\u001b[1;33m)\u001b[0m\u001b[1;33m\u001b[0m\u001b[1;33m\u001b[0m\u001b[0m\n\u001b[1;32m---> 13\u001b[1;33m     \u001b[0mfig\u001b[0m\u001b[1;33m.\u001b[0m\u001b[0mset_title\u001b[0m\u001b[1;33m(\u001b[0m\u001b[0mtitle\u001b[0m\u001b[1;33m)\u001b[0m\u001b[1;33m\u001b[0m\u001b[1;33m\u001b[0m\u001b[0m\n\u001b[0m\u001b[0;32m     14\u001b[0m \u001b[1;33m\u001b[0m\u001b[0m\n\u001b[0;32m     15\u001b[0m     \u001b[0max1\u001b[0m \u001b[1;33m=\u001b[0m \u001b[0mfig\u001b[0m\u001b[1;33m.\u001b[0m\u001b[0madd_subplot\u001b[0m\u001b[1;33m(\u001b[0m\u001b[1;36m121\u001b[0m\u001b[1;33m,\u001b[0m \u001b[0mprojection\u001b[0m\u001b[1;33m=\u001b[0m\u001b[1;34m'3d'\u001b[0m\u001b[1;33m)\u001b[0m\u001b[1;33m\u001b[0m\u001b[1;33m\u001b[0m\u001b[0m\n",
      "\u001b[1;31mAttributeError\u001b[0m: 'Figure' object has no attribute 'set_title'"
     ]
    }
   ],
   "source": [
    "\n",
    "# número de dimensões para gráficos\n",
    "D_plot = 2\n",
    "# selecionar um único valor de shift\n",
    "o_used = shift_data.iloc[0, :D_plot].to_numpy()\n",
    "# selecionar duas matrizes de rotação\n",
    "M1 = M_D2.iloc[:2, :].to_numpy()\n",
    "M2 = M_D2.iloc[2:4, :].to_numpy()\n",
    "\n",
    "unimodal = DifferentPowersFunction(o_used, D=D_plot)\n",
    "multimodal = RotatedGriewanksFunction(o_used, M1, D=D_plot)\n",
    "\n",
    "plot_function_2d(unimodal.func, 100, title='Função 5')\n",
    "plot_function_2d(multimodal.func, 100, bx=[-26,-17],by=[7,16], title='Função 10')\n"
   ]
  },
  {
   "cell_type": "code",
   "execution_count": null,
   "metadata": {},
   "outputs": [],
   "source": []
  },
  {
   "cell_type": "markdown",
   "metadata": {},
   "source": [
    "## Conclusão"
   ]
  },
  {
   "cell_type": "code",
   "execution_count": null,
   "metadata": {},
   "outputs": [],
   "source": []
  }
 ]
}